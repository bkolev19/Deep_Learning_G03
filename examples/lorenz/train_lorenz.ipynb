{
 "cells": [
  {
   "cell_type": "code",
   "execution_count": 1,
   "metadata": {},
   "outputs": [],
   "source": [
    "import os\n",
    "import sys\n",
    "sys.path.append(\"../../src\")\n",
    "import os\n",
    "import datetime\n",
    "import pandas as pd\n",
    "import numpy as np\n",
    "from example_lorenz import get_lorenz_data\n",
    "from sindy_utils import library_size\n",
    "from training import train_network\n",
    "import tensorflow as tf\n",
    "\n",
    "from sklearn.model_selection import ParameterGrid\n",
    "from time import time"
   ]
  },
  {
   "cell_type": "markdown",
   "metadata": {},
   "source": [
    "# Generate data"
   ]
  },
  {
   "cell_type": "code",
   "execution_count": 2,
   "metadata": {},
   "outputs": [],
   "source": [
    "# generate training, validation, testing data\n",
    "noise_strength = 1e-6\n",
    "training_data = get_lorenz_data(128, noise_strength=noise_strength)\n",
    "validation_data = get_lorenz_data(2, noise_strength=noise_strength)"
   ]
  },
  {
   "cell_type": "code",
   "execution_count": 3,
   "metadata": {
    "collapsed": true
   },
   "outputs": [],
   "source": [
    "params = {}\n",
    "\n",
    "params['input_dim'] = 128\n",
    "params['latent_dim'] = 3 #\n",
    "params['model_order'] = 1\n",
    "params['poly_order'] = 3 #\n",
    "params['include_sine'] = False #\n",
    "params['library_dim'] = library_size(params['latent_dim'], params['poly_order'], params['include_sine'], True)\n",
    "\n",
    "# sequential thresholding parameters\n",
    "params['sequential_thresholding'] = True\n",
    "params['coefficient_threshold'] = 0.1\n",
    "params['threshold_frequency'] = 500\n",
    "params['coefficient_mask'] = np.ones((params['library_dim'], params['latent_dim']))\n",
    "params['coefficient_initialization'] = 'constant'\n",
    "\n",
    "# loss function weighting\n",
    "params['loss_weight_decoder'] = 1.0 #\n",
    "params['loss_weight_sindy_z'] = 0.0 #\n",
    "params['loss_weight_sindy_x'] = 1e-4 #\n",
    "params['loss_weight_sindy_regularization'] = 1e-5 #\n",
    "\n",
    "params['activation'] = 'sigmoid' #\n",
    "params['widths'] = [64,32] #\n",
    "\n",
    "# training parameters\n",
    "params['epoch_size'] = training_data['x'].shape[0]\n",
    "params['batch_size'] = 128 #\n",
    "params['learning_rate'] = 1e-2 #\n",
    "\n",
    "params['data_path'] = os.getcwd() + '/'\n",
    "params['print_progress'] = True\n",
    "params['print_frequency'] = 100\n",
    "\n",
    "# training time cutoffs\n",
    "params['max_epochs'] = 100\n",
    "params['refinement_epochs'] = 20\n"
   ]
  },
  {
   "cell_type": "code",
   "execution_count": 4,
   "metadata": {},
   "outputs": [],
   "source": [
    "def dftocsv(df):\n",
    "    if os.path.isfile('gridsearch_results.csv'):\n",
    "        df.to_csv('gridsearch_results.csv', mode='a', header=False)\n",
    "    else:\n",
    "        df.to_csv('gridsearch_results.csv', mode='w', header=True)"
   ]
  },
  {
   "cell_type": "markdown",
   "metadata": {},
   "source": [
    "# Set up model and training parameters"
   ]
  },
  {
   "cell_type": "code",
   "execution_count": 5,
   "metadata": {},
   "outputs": [],
   "source": [
    "param_grid = {\n",
    "    'latent_dim': [1, 3, 6],\n",
    "    'loss_weight_sindy_z': [0.0, 1e-4],\n",
    "    'loss_weight_sindy_x': [0.0, 1e-4],\n",
    "    'widths' : [[64],[64, 32],[64,32,16]],\n",
    "    'batch_size': [128, 32]\n",
    "}\n",
    "grid = ParameterGrid(param_grid)\n",
    "\n"
   ]
  },
  {
   "cell_type": "markdown",
   "metadata": {},
   "source": [
    "# Run training experiments"
   ]
  },
  {
   "cell_type": "code",
   "execution_count": 6,
   "metadata": {},
   "outputs": [
    {
     "name": "stdout",
     "output_type": "stream",
     "text": [
      "EXPERIMENT:1\n",
      "WARNING:tensorflow:From ../../src\\autoencoder.py:28: The name tf.placeholder is deprecated. Please use tf.compat.v1.placeholder instead.\n",
      "\n",
      "WARNING:tensorflow:From ../../src\\autoencoder.py:194: The name tf.get_variable is deprecated. Please use tf.compat.v1.get_variable instead.\n",
      "\n",
      "WARNING:tensorflow:\n",
      "The TensorFlow contrib module will not be included in TensorFlow 2.0.\n",
      "For more information, please see:\n",
      "  * https://github.com/tensorflow/community/blob/master/rfcs/20180907-contrib-sunset.md\n",
      "  * https://github.com/tensorflow/addons\n",
      "  * https://github.com/tensorflow/io (for I/O related ops)\n",
      "If you depend on functionality not listed there, please file an issue.\n",
      "\n",
      "WARNING:tensorflow:From ../../src\\training.py:12: The name tf.train.AdamOptimizer is deprecated. Please use tf.compat.v1.train.AdamOptimizer instead.\n",
      "\n",
      "WARNING:tensorflow:From c:\\Users\\jaspe\\anaconda3\\envs\\tfv1\\lib\\site-packages\\tensorflow_core\\python\\ops\\math_grad.py:1375: where (from tensorflow.python.ops.array_ops) is deprecated and will be removed in a future version.\n",
      "Instructions for updating:\n",
      "Use tf.where in 2.0, which has the same broadcast rule as np.where\n",
      "WARNING:tensorflow:From ../../src\\training.py:28: The name tf.Session is deprecated. Please use tf.compat.v1.Session instead.\n",
      "\n",
      "WARNING:tensorflow:From ../../src\\training.py:29: The name tf.global_variables_initializer is deprecated. Please use tf.compat.v1.global_variables_initializer instead.\n",
      "\n",
      "EXPERIMENT:2\n",
      "EXPERIMENT:3\n",
      "EXPERIMENT:4\n",
      "EXPERIMENT:5\n",
      "EXPERIMENT:6\n",
      "EXPERIMENT:7\n",
      "EXPERIMENT:8\n",
      "EXPERIMENT:9\n",
      "EXPERIMENT:10\n",
      "EXPERIMENT:11\n",
      "EXPERIMENT:12\n",
      "EXPERIMENT:13\n",
      "EXPERIMENT:14\n",
      "EXPERIMENT:15\n",
      "EXPERIMENT:16\n",
      "EXPERIMENT:17\n",
      "EXPERIMENT:18\n",
      "EXPERIMENT:19\n",
      "EXPERIMENT:20\n",
      "EXPERIMENT:21\n",
      "EXPERIMENT:22\n",
      "EXPERIMENT:23\n",
      "EXPERIMENT:24\n",
      "EXPERIMENT:25\n",
      "EXPERIMENT:26\n",
      "EXPERIMENT:27\n",
      "EXPERIMENT:28\n",
      "EXPERIMENT:29\n",
      "EXPERIMENT:30\n",
      "EXPERIMENT:31\n",
      "EXPERIMENT:32\n",
      "EXPERIMENT:33\n",
      "EXPERIMENT:34\n",
      "EXPERIMENT:35\n",
      "EXPERIMENT:36\n",
      "EXPERIMENT:37\n",
      "EXPERIMENT:38\n",
      "EXPERIMENT:39\n",
      "EXPERIMENT:40\n",
      "EXPERIMENT:41\n",
      "EXPERIMENT:42\n",
      "EXPERIMENT:43\n",
      "EXPERIMENT:44\n",
      "EXPERIMENT:45\n",
      "EXPERIMENT:46\n",
      "EXPERIMENT:47\n",
      "EXPERIMENT:48\n",
      "EXPERIMENT:49\n",
      "EXPERIMENT:50\n",
      "EXPERIMENT:51\n",
      "EXPERIMENT:52\n",
      "EXPERIMENT:53\n",
      "EXPERIMENT:54\n",
      "EXPERIMENT:55\n",
      "EXPERIMENT:56\n",
      "EXPERIMENT:57\n",
      "EXPERIMENT:58\n",
      "EXPERIMENT:59\n",
      "EXPERIMENT:60\n",
      "EXPERIMENT:61\n",
      "EXPERIMENT:62\n",
      "EXPERIMENT:63\n",
      "EXPERIMENT:64\n",
      "EXPERIMENT:65\n",
      "EXPERIMENT:66\n",
      "EXPERIMENT:67\n",
      "EXPERIMENT:68\n",
      "EXPERIMENT:69\n",
      "EXPERIMENT:70\n",
      "EXPERIMENT:71\n",
      "EXPERIMENT:72\n",
      "DONE\n"
     ]
    }
   ],
   "source": [
    "for i, changed_params in enumerate(grid):\n",
    "    params_run = params.copy()\n",
    "    params_run.update(changed_params)\n",
    "    params_run['library_dim'] = library_size(params_run['latent_dim'], params_run['poly_order'], params_run['include_sine'], True)\n",
    "    params_run['coefficient_mask'] = np.ones((params_run['library_dim'], params_run['latent_dim']))\n",
    "    \n",
    "    print(f'EXPERIMENT:{i+1}')\n",
    "    start = time()\n",
    "\n",
    "    tf.reset_default_graph()\n",
    "    results_dict = train_network(training_data, validation_data, params_run)\n",
    "    end = time()\n",
    "    dt = end-start\n",
    "\n",
    "    df = pd.DataFrame()\n",
    "    df = df.append({**results_dict, **params_run}, ignore_index=True)\n",
    "\n",
    "    df2save = df[['loss_decoder','loss_sindy_x', 'loss_sindy_z', 'loss_sindy_regularization','validation_losses']]\n",
    "    changed_params['widths'] = str(changed_params['widths'])\n",
    "    df_params = pd.DataFrame(changed_params, index=[0])\n",
    "\n",
    "    df_final = pd.concat([df2save, df_params], axis=1)\n",
    "    df_final['dt'] = dt\n",
    "\n",
    "    dftocsv(df_final)\n",
    "\n",
    "print(\"DONE\")"
   ]
  }
 ],
 "metadata": {
  "kernelspec": {
   "display_name": "Python 3",
   "language": "python",
   "name": "python3"
  },
  "language_info": {
   "codemirror_mode": {
    "name": "ipython",
    "version": 3
   },
   "file_extension": ".py",
   "mimetype": "text/x-python",
   "name": "python",
   "nbconvert_exporter": "python",
   "pygments_lexer": "ipython3",
   "version": "3.7.16"
  },
  "toc": {
   "base_numbering": 1,
   "nav_menu": {},
   "number_sections": true,
   "sideBar": true,
   "skip_h1_title": false,
   "title_cell": "Table of Contents",
   "title_sidebar": "Contents",
   "toc_cell": false,
   "toc_position": {},
   "toc_section_display": true,
   "toc_window_display": false
  },
  "varInspector": {
   "cols": {
    "lenName": 16,
    "lenType": 16,
    "lenVar": 40
   },
   "kernels_config": {
    "python": {
     "delete_cmd_postfix": "",
     "delete_cmd_prefix": "del ",
     "library": "var_list.py",
     "varRefreshCmd": "print(var_dic_list())"
    },
    "r": {
     "delete_cmd_postfix": ") ",
     "delete_cmd_prefix": "rm(",
     "library": "var_list.r",
     "varRefreshCmd": "cat(var_dic_list()) "
    }
   },
   "types_to_exclude": [
    "module",
    "function",
    "builtin_function_or_method",
    "instance",
    "_Feature"
   ],
   "window_display": false
  }
 },
 "nbformat": 4,
 "nbformat_minor": 2
}
