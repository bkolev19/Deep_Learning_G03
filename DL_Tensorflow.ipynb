{
 "cells": [
  {
   "cell_type": "markdown",
   "id": "aabaa87b-91f0-4edf-8752-06d2d0c9427b",
   "metadata": {},
   "source": [
    "# Deep Learning Reproduction"
   ]
  },
  {
   "cell_type": "markdown",
   "id": "bd975039",
   "metadata": {},
   "source": [
    "This section is dedicated to reproducing and validating the results form the original paper. This is done by utilising an exact copy of the provideed code and comparing to the claims made in the paper."
   ]
  }
 ],
 "metadata": {
  "kernelspec": {
   "display_name": "my-neuralpythonkernel",
   "language": "python",
   "name": "my-neuralpythonkernel"
  },
  "language_info": {
   "codemirror_mode": {
    "name": "ipython",
    "version": 3
   },
   "file_extension": ".py",
   "mimetype": "text/x-python",
   "name": "python",
   "nbconvert_exporter": "python",
   "pygments_lexer": "ipython3",
   "version": "3.10.8"
  }
 },
 "nbformat": 4,
 "nbformat_minor": 5
}
