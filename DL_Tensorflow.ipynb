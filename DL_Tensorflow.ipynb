{
 "cells": [
  {
   "cell_type": "markdown",
   "id": "aabaa87b-91f0-4edf-8752-06d2d0c9427b",
   "metadata": {},
   "source": [
    "# Deep Learning Reproduction"
   ]
  },
  {
   "cell_type": "code",
   "execution_count": null,
   "id": "261b4388-3f50-46a0-ac25-98b3f7526d5a",
   "metadata": {},
   "outputs": [],
   "source": []
  }
 ],
 "metadata": {
  "kernelspec": {
   "display_name": "my-neuralpythonkernel",
   "language": "python",
   "name": "my-neuralpythonkernel"
  },
  "language_info": {
   "codemirror_mode": {
    "name": "ipython",
    "version": 3
   },
   "file_extension": ".py",
   "mimetype": "text/x-python",
   "name": "python",
   "nbconvert_exporter": "python",
   "pygments_lexer": "ipython3",
   "version": "3.10.8"
  }
 },
 "nbformat": 4,
 "nbformat_minor": 5
}
