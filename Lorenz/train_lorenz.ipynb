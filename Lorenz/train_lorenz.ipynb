{
 "cells": [
  {
   "cell_type": "code",
   "execution_count": 1,
   "metadata": {},
   "outputs": [
    {
     "name": "stdout",
     "output_type": "stream",
     "text": [
      "Available GPUs: 1\n",
      "GPU 0: NVIDIA GeForce RTX 3070 Ti Laptop GPU\n",
      "ID of current CUDA device:0\n",
      "Name of current CUDA device:NVIDIA GeForce RTX 3070 Ti Laptop GPU\n",
      "cuda:0\n"
     ]
    }
   ],
   "source": [
    "import os\n",
    "import sys\n",
    "import pickle\n",
    "import datetime\n",
    "import numpy as np\n",
    "import pandas as pd\n",
    "from example_lorenz import get_lorenz_data\n",
    "\n",
    "sys.path.append(\"../\")\n",
    "from training import train_network\n",
    "from autoencoder import library_size"
   ]
  },
  {
   "cell_type": "markdown",
   "metadata": {},
   "source": [
    "## Generating the Training and Validation data"
   ]
  },
  {
   "cell_type": "code",
   "execution_count": 2,
   "metadata": {},
   "outputs": [],
   "source": [
    "noise           = 1e-6\n",
    "training_data   = get_lorenz_data(128, noise)\n",
    "validation_data = get_lorenz_data(20, noise)\n",
    "\n",
    "# Save the data\n",
    "data_to_save = {\n",
    "    \"training_data\": training_data,\n",
    "    \"validation_data\": validation_data\n",
    "}\n",
    "with open(\"lorenz_data.pkl\", \"wb\") as f:\n",
    "    pickle.dump(data_to_save, f)"
   ]
  },
  {
   "cell_type": "markdown",
   "metadata": {},
   "source": [
    "## Set up model and training parameters"
   ]
  },
  {
   "cell_type": "code",
   "execution_count": 3,
   "metadata": {},
   "outputs": [],
   "source": [
    "# Retrieve the data\n",
    "with open(\"lorenz_data.pkl\", \"rb\") as f:\n",
    "    data = pickle.load(f)\n",
    "\n",
    "training_data                                       = data[\"training_data\"]\n",
    "validation_data                                     = data[\"validation_data\"]\n",
    "\n",
    "params = {}\n",
    "\n",
    "params['input_dim']                                 = 128\n",
    "params['latent_dim']                                = 3\n",
    "params['model_order']                               = 1\n",
    "params['poly_order']                                = 3\n",
    "params['include_sine']                              = False\n",
    "params['library_dim']                               = library_size(params['latent_dim'], params['poly_order'], params['include_sine'], True)\n",
    "\n",
    "# sequential thresholding parameters\n",
    "params['sequential_thresholding']                   = True\n",
    "params['coefficient_threshold']                     = 0.1\n",
    "params['threshold_frequency']                       = 500\n",
    "params['coefficient_mask']                          = np.ones((params['library_dim'], params['latent_dim']))\n",
    "params['coefficient_initialization']                = 'constant'\n",
    "\n",
    "# loss function weighting\n",
    "params['loss_weight_decoder']                       = 1.0\n",
    "params['loss_weight_sindy_z']                       = 0.0\n",
    "params['loss_weight_sindy_x']                       = 1e-4\n",
    "params['loss_weight_sindy_regularization']          = 1e-5\n",
    "\n",
    "params['activation']                                = 'sigmoid'\n",
    "params['widths']                                    = [64,32]\n",
    "\n",
    "# training parameters\n",
    "params['epoch_size']                                = training_data['x'].shape[0]\n",
    "params['batch_size']                                = 100\n",
    "params['learning_rate']                             = 1e-3\n",
    "\n",
    "params['data_path']                                 = os.getcwd() + '/'\n",
    "params['print_progress']                            = True\n",
    "params['print_frequency']                           = 100\n",
    "\n",
    "# training time cutoffs\n",
    "params['max_epochs']                                = 5001\n",
    "params['refinement_epochs']                         = 1001"
   ]
  },
  {
   "cell_type": "markdown",
   "metadata": {},
   "source": [
    "## Run training experiment"
   ]
  },
  {
   "cell_type": "code",
   "execution_count": 5,
   "metadata": {},
   "outputs": [
    {
     "name": "stderr",
     "output_type": "stream",
     "text": [
      "Batch_Loop: 100%|██████████| 40/40 [00:00<00:00, 150.94it/s]\n"
     ]
    }
   ],
   "source": [
    "n_experiments = 1 \n",
    "df = {}\n",
    "\n",
    "for i in range(n_experiments):\n",
    "    params['coefficient_mask'] = np.ones((params['library_dim'], params['latent_dim']))\n",
    "    params['save_name'] = 'lorenz_' + datetime.datetime.now().strftime(\"%Y_%m_%d_%H_%M_%S_%f\")\n",
    "\n",
    "    results_dict = train_network(training_data, validation_data, params)\n",
    "    df.update({**results_dict, **params}, ignore_index=True)\n",
    "\n",
    "# Save the results\n",
    "pickle.dump(df, open(\"lorenz_results.pkl\", \"wb\"))"
   ]
  }
 ],
 "metadata": {
  "kernelspec": {
   "display_name": "TUDELFT",
   "language": "python",
   "name": "python3"
  },
  "language_info": {
   "codemirror_mode": {
    "name": "ipython",
    "version": 3
   },
   "file_extension": ".py",
   "mimetype": "text/x-python",
   "name": "python",
   "nbconvert_exporter": "python",
   "pygments_lexer": "ipython3",
   "version": "3.12.2"
  }
 },
 "nbformat": 4,
 "nbformat_minor": 2
}
