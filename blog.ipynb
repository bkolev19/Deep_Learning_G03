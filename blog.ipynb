{
 "cells": [
  {
   "cell_type": "markdown",
   "metadata": {},
   "source": [
    "# Blog"
   ]
  },
  {
   "cell_type": "markdown",
   "source": [
    "## Week 1"
   ],
   "metadata": {
    "collapsed": false
   }
  },
  {
   "cell_type": "markdown",
   "metadata": {},
   "source": [
    "**Comments to Author**\n",
    "- In the liner_autoencoder method there is a parameter extra and one missing, potentially being the same parameter.\n",
    "- The README should include the version of the libraries used in the project, or a .yaml"
   ]
  },
  {
   "cell_type": "code",
   "execution_count": null,
   "outputs": [],
   "source": [],
   "metadata": {
    "collapsed": false
   }
  }
 ],
 "metadata": {
  "language_info": {
   "name": "python"
  }
 },
 "nbformat": 4,
 "nbformat_minor": 2
}
